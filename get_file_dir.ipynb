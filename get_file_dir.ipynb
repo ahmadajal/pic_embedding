{
 "cells": [
  {
   "cell_type": "code",
   "execution_count": 4,
   "metadata": {},
   "outputs": [],
   "source": [
    "import os\n",
    "people = [x[0] for x in os.walk('lfw')]"
   ]
  },
  {
   "cell_type": "code",
   "execution_count": 22,
   "metadata": {},
   "outputs": [
    {
     "data": {
      "text/plain": [
       "'lfw/German_Khan'"
      ]
     },
     "execution_count": 22,
     "metadata": {},
     "output_type": "execute_result"
    }
   ],
   "source": [
    "people[1]"
   ]
  },
  {
   "cell_type": "code",
   "execution_count": 21,
   "metadata": {},
   "outputs": [
    {
     "data": {
      "text/plain": [
       "['Paul_ONeill_0008.jpg',\n",
       " 'Paul_ONeill_0009.jpg',\n",
       " 'Paul_ONeill_0002.jpg',\n",
       " 'Paul_ONeill_0003.jpg',\n",
       " 'Paul_ONeill_0001.jpg',\n",
       " 'Paul_ONeill_0004.jpg',\n",
       " 'Paul_ONeill_0005.jpg',\n",
       " 'Paul_ONeill_0007.jpg',\n",
       " 'Paul_ONeill_0006.jpg']"
      ]
     },
     "execution_count": 21,
     "metadata": {},
     "output_type": "execute_result"
    }
   ],
   "source": [
    "y = people[33]\n",
    "os.listdir(y)"
   ]
  },
  {
   "cell_type": "code",
   "execution_count": 36,
   "metadata": {},
   "outputs": [],
   "source": [
    "import random\n",
    "id2dir = dict()\n",
    "for i,person in enumerate(people[1:]):\n",
    "    pic = random.choice(os.listdir(person))\n",
    "    id2dir[i] = person+'/'+pic\n",
    "    "
   ]
  },
  {
   "cell_type": "code",
   "execution_count": 41,
   "metadata": {},
   "outputs": [],
   "source": [
    "dir2id = {k:v for v,k in id2dir.items()}"
   ]
  },
  {
   "cell_type": "code",
   "execution_count": 40,
   "metadata": {},
   "outputs": [],
   "source": [
    "import json\n",
    "with open('id2dir.json','w') as f:\n",
    "    json.dump(id2dir,f)"
   ]
  },
  {
   "cell_type": "code",
   "execution_count": 43,
   "metadata": {},
   "outputs": [],
   "source": [
    "with open('dir2id.json', 'w') as f:\n",
    "    json.dump(dir2id,f)"
   ]
  },
  {
   "cell_type": "code",
   "execution_count": null,
   "metadata": {},
   "outputs": [],
   "source": []
  }
 ],
 "metadata": {
  "kernelspec": {
   "display_name": "Python 3",
   "language": "python",
   "name": "python3"
  },
  "language_info": {
   "codemirror_mode": {
    "name": "ipython",
    "version": 3
   },
   "file_extension": ".py",
   "mimetype": "text/x-python",
   "name": "python",
   "nbconvert_exporter": "python",
   "pygments_lexer": "ipython3",
   "version": "3.6.1"
  }
 },
 "nbformat": 4,
 "nbformat_minor": 2
}
